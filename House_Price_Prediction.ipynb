{
 "cells": [
  {
   "cell_type": "markdown",
   "id": "65f04143",
   "metadata": {
    "papermill": {
     "duration": 0.012442,
     "end_time": "2021-08-24T20:51:38.732192",
     "exception": false,
     "start_time": "2021-08-24T20:51:38.719750",
     "status": "completed"
    },
    "tags": []
   },
   "source": [
    "**This notebook is an exercise in the [Introduction to Machine Learning](https://www.kaggle.com/learn/intro-to-machine-learning) course.  You can reference the tutorial at [this link](https://www.kaggle.com/alexisbcook/machine-learning-competitions).**\n",
    "\n",
    "---\n"
   ]
  },
  {
   "cell_type": "markdown",
   "id": "88b95dda",
   "metadata": {
    "papermill": {
     "duration": 0.010787,
     "end_time": "2021-08-24T20:51:38.754562",
     "exception": false,
     "start_time": "2021-08-24T20:51:38.743775",
     "status": "completed"
    },
    "tags": []
   },
   "source": [
    "# Introduction\n",
    "\n",
    "In this exercise, you will create and submit predictions for a Kaggle competition. You can then improve your model (e.g. by adding features) to apply what you've learned and move up the leaderboard.\n",
    "\n",
    "Begin by running the code cell below to set up code checking and the filepaths for the dataset."
   ]
  },
  {
   "cell_type": "code",
   "execution_count": 1,
   "id": "bc5e5de1",
   "metadata": {
    "execution": {
     "iopub.execute_input": "2021-08-24T20:51:38.792726Z",
     "iopub.status.busy": "2021-08-24T20:51:38.792092Z",
     "iopub.status.idle": "2021-08-24T20:51:38.838031Z",
     "shell.execute_reply": "2021-08-24T20:51:38.837411Z",
     "shell.execute_reply.started": "2021-08-24T20:30:51.822263Z"
    },
    "papermill": {
     "duration": 0.071802,
     "end_time": "2021-08-24T20:51:38.838220",
     "exception": false,
     "start_time": "2021-08-24T20:51:38.766418",
     "status": "completed"
    },
    "tags": []
   },
   "outputs": [],
   "source": [
    "# Set up code checking\n",
    "from learntools.core import binder\n",
    "binder.bind(globals())\n",
    "from learntools.machine_learning.ex7 import *\n",
    "\n",
    "# Set up filepaths\n",
    "import os\n",
    "if not os.path.exists(\"../input/train.csv\"):\n",
    "    os.symlink(\"../input/home-data-for-ml-course/train.csv\", \"../input/train.csv\")  \n",
    "    os.symlink(\"../input/home-data-for-ml-course/test.csv\", \"../input/test.csv\") "
   ]
  },
  {
   "cell_type": "markdown",
   "id": "d1e58956",
   "metadata": {
    "papermill": {
     "duration": 0.010777,
     "end_time": "2021-08-24T20:51:38.860054",
     "exception": false,
     "start_time": "2021-08-24T20:51:38.849277",
     "status": "completed"
    },
    "tags": []
   },
   "source": [
    "Here's some of the code you've written so far. Start by running it again."
   ]
  },
  {
   "cell_type": "code",
   "execution_count": 2,
   "id": "c67bbe64",
   "metadata": {
    "execution": {
     "iopub.execute_input": "2021-08-24T20:51:38.978007Z",
     "iopub.status.busy": "2021-08-24T20:51:38.977338Z",
     "iopub.status.idle": "2021-08-24T20:52:32.329236Z",
     "shell.execute_reply": "2021-08-24T20:52:32.329756Z",
     "shell.execute_reply.started": "2021-08-24T20:47:21.649819Z"
    },
    "papermill": {
     "duration": 53.459019,
     "end_time": "2021-08-24T20:52:32.329924",
     "exception": false,
     "start_time": "2021-08-24T20:51:38.870905",
     "status": "completed"
    },
    "tags": []
   },
   "outputs": [
    {
     "name": "stdout",
     "output_type": "stream",
     "text": [
      "100\n",
      "Validation RMSE for Random Forest Model: 27,668\n",
      "Validation RMSE for Gradient Boosting: 24,184\n",
      "Validation RMSE for Av: 24,214\n",
      "___________________________________________________________________\n",
      "200\n",
      "Validation RMSE for Random Forest Model: 27,288\n",
      "Validation RMSE for Gradient Boosting: 24,068\n",
      "Validation RMSE for Av: 23,904\n",
      "___________________________________________________________________\n",
      "300\n",
      "Validation RMSE for Random Forest Model: 26,910\n",
      "Validation RMSE for Gradient Boosting: 24,225\n",
      "Validation RMSE for Av: 23,808\n",
      "___________________________________________________________________\n",
      "400\n",
      "Validation RMSE for Random Forest Model: 26,805\n",
      "Validation RMSE for Gradient Boosting: 24,498\n",
      "Validation RMSE for Av: 23,820\n",
      "___________________________________________________________________\n",
      "500\n",
      "Validation RMSE for Random Forest Model: 26,764\n",
      "Validation RMSE for Gradient Boosting: 24,597\n",
      "Validation RMSE for Av: 23,804\n",
      "___________________________________________________________________\n",
      "600\n",
      "Validation RMSE for Random Forest Model: 26,925\n",
      "Validation RMSE for Gradient Boosting: 24,793\n",
      "Validation RMSE for Av: 23,896\n",
      "___________________________________________________________________\n",
      "700\n",
      "Validation RMSE for Random Forest Model: 26,895\n",
      "Validation RMSE for Gradient Boosting: 24,816\n",
      "Validation RMSE for Av: 23,882\n",
      "___________________________________________________________________\n",
      "800\n",
      "Validation RMSE for Random Forest Model: 26,810\n",
      "Validation RMSE for Gradient Boosting: 24,904\n",
      "Validation RMSE for Av: 23,876\n",
      "___________________________________________________________________\n",
      "900\n",
      "Validation RMSE for Random Forest Model: 26,698\n",
      "Validation RMSE for Gradient Boosting: 24,977\n",
      "Validation RMSE for Av: 23,858\n",
      "___________________________________________________________________\n"
     ]
    }
   ],
   "source": [
    "# Import helpful libraries\n",
    "import pandas as pd\n",
    "import numpy as np\n",
    "from sklearn.ensemble import RandomForestRegressor, GradientBoostingRegressor\n",
    "from sklearn.metrics import mean_absolute_error, mean_squared_error\n",
    "from sklearn.model_selection import train_test_split\n",
    "\n",
    "# Load the data, and separate the target\n",
    "iowa_file_path = '../input/train.csv'\n",
    "home_data = pd.read_csv(iowa_file_path)\n",
    "y = home_data.SalePrice\n",
    "\n",
    "# Create X (After completing the exercise, you can return to modify this line!)\n",
    "features = ['MSSubClass',\n",
    "'LotArea',\n",
    "'OverallQual',\n",
    "'OverallCond',\n",
    "'YearBuilt',\n",
    "'YearRemodAdd',\n",
    "'1stFlrSF',\n",
    "'2ndFlrSF',\n",
    "'LowQualFinSF',\n",
    "'GrLivArea',\n",
    "'FullBath',\n",
    "'HalfBath',\n",
    "'BedroomAbvGr',\n",
    "'KitchenAbvGr',\n",
    "'TotRmsAbvGrd',\n",
    "'Fireplaces',\n",
    "'WoodDeckSF',\n",
    "'OpenPorchSF',\n",
    "'EnclosedPorch',\n",
    "'3SsnPorch',\n",
    "'ScreenPorch',\n",
    "'PoolArea',\n",
    "'MiscVal',\n",
    "'MoSold',\n",
    "'YrSold'\n",
    "    \n",
    "]\n",
    "\n",
    "# Select columns corresponding to features, and preview the data\n",
    "X = home_data[features]\n",
    "X.head()\n",
    "\n",
    "# Split into validation and training data\n",
    "train_X, val_X, train_y, val_y = train_test_split(X, y, random_state=1)\n",
    "for i in range(100, 1000, 100):\n",
    "    # Define a random forest model\n",
    "    rf_model = RandomForestRegressor(random_state=1,n_estimators=i)\n",
    "    gbr_model = GradientBoostingRegressor(random_state=1,n_estimators=i)\n",
    "    rf_model.fit(train_X, train_y)\n",
    "    gbr_model.fit(train_X, train_y)\n",
    "    rf_val_predictions = rf_model.predict(val_X)\n",
    "    gbr_val_predictions = gbr_model.predict(val_X)\n",
    "    av_pred = (rf_val_predictions+gbr_val_predictions)/2\n",
    "    rf_val_rmse = np.sqrt(mean_squared_error(rf_val_predictions, val_y))\n",
    "    gbr_val_rmse = np.sqrt(mean_squared_error(gbr_val_predictions, val_y))\n",
    "    av_val_rmse = np.sqrt(mean_squared_error(av_pred, val_y))\n",
    "    print(i)\n",
    "    print(\"Validation RMSE for Random Forest Model: {:,.0f}\".format(rf_val_rmse))\n",
    "    print(\"Validation RMSE for Gradient Boosting: {:,.0f}\".format(gbr_val_rmse))\n",
    "    print(\"Validation RMSE for Av: {:,.0f}\".format(av_val_rmse))\n",
    "    print(\"___________________________________________________________________\")"
   ]
  },
  {
   "cell_type": "markdown",
   "id": "2a8ed020",
   "metadata": {
    "papermill": {
     "duration": 0.013527,
     "end_time": "2021-08-24T20:52:32.357318",
     "exception": false,
     "start_time": "2021-08-24T20:52:32.343791",
     "status": "completed"
    },
    "tags": []
   },
   "source": [
    "# Train a model for the competition\n",
    "\n",
    "The code cell above trains a Random Forest model on **`train_X`** and **`train_y`**.  \n",
    "\n",
    "Use the code cell below to build a Random Forest model and train it on all of **`X`** and **`y`**."
   ]
  },
  {
   "cell_type": "code",
   "execution_count": 3,
   "id": "07a3991f",
   "metadata": {
    "execution": {
     "iopub.execute_input": "2021-08-24T20:52:32.388962Z",
     "iopub.status.busy": "2021-08-24T20:52:32.387972Z",
     "iopub.status.idle": "2021-08-24T20:52:38.825058Z",
     "shell.execute_reply": "2021-08-24T20:52:38.824534Z",
     "shell.execute_reply.started": "2021-08-24T20:51:04.261156Z"
    },
    "papermill": {
     "duration": 6.454168,
     "end_time": "2021-08-24T20:52:38.825213",
     "exception": false,
     "start_time": "2021-08-24T20:52:32.371045",
     "status": "completed"
    },
    "tags": []
   },
   "outputs": [
    {
     "data": {
      "text/plain": [
       "GradientBoostingRegressor(n_estimators=200, random_state=1)"
      ]
     },
     "execution_count": 3,
     "metadata": {},
     "output_type": "execute_result"
    }
   ],
   "source": [
    "# To improve accuracy, create a new Random Forest model which you will train on all training data\n",
    "rf_model_on_full_data = RandomForestRegressor(random_state=1, n_estimators=500)\n",
    "gbr_model_on_full_data = GradientBoostingRegressor(random_state=1, n_estimators=200)\n",
    "\n",
    "# fit rf_model_on_full_data on all data from the training data\n",
    "rf_model_on_full_data.fit(X, y)\n",
    "gbr_model_on_full_data.fit(X, y)"
   ]
  },
  {
   "cell_type": "code",
   "execution_count": 4,
   "id": "bf70a649",
   "metadata": {
    "execution": {
     "iopub.execute_input": "2021-08-24T20:52:38.857668Z",
     "iopub.status.busy": "2021-08-24T20:52:38.857010Z",
     "iopub.status.idle": "2021-08-24T20:52:38.860404Z",
     "shell.execute_reply": "2021-08-24T20:52:38.859843Z",
     "shell.execute_reply.started": "2021-08-24T20:08:43.392671Z"
    },
    "papermill": {
     "duration": 0.021294,
     "end_time": "2021-08-24T20:52:38.860533",
     "exception": false,
     "start_time": "2021-08-24T20:52:38.839239",
     "status": "completed"
    },
    "tags": []
   },
   "outputs": [],
   "source": [
    "#?RandomForestRegressor"
   ]
  },
  {
   "cell_type": "markdown",
   "id": "5a3ea643",
   "metadata": {
    "papermill": {
     "duration": 0.014336,
     "end_time": "2021-08-24T20:52:38.889176",
     "exception": false,
     "start_time": "2021-08-24T20:52:38.874840",
     "status": "completed"
    },
    "tags": []
   },
   "source": [
    "Now, read the file of \"test\" data, and apply your model to make predictions."
   ]
  },
  {
   "cell_type": "code",
   "execution_count": 5,
   "id": "a3aa5bf2",
   "metadata": {
    "execution": {
     "iopub.execute_input": "2021-08-24T20:52:38.922903Z",
     "iopub.status.busy": "2021-08-24T20:52:38.922280Z",
     "iopub.status.idle": "2021-08-24T20:52:39.120315Z",
     "shell.execute_reply": "2021-08-24T20:52:39.119586Z",
     "shell.execute_reply.started": "2021-08-24T20:51:12.907094Z"
    },
    "papermill": {
     "duration": 0.216804,
     "end_time": "2021-08-24T20:52:39.120452",
     "exception": false,
     "start_time": "2021-08-24T20:52:38.903648",
     "status": "completed"
    },
    "tags": []
   },
   "outputs": [],
   "source": [
    "# path to file you will use for predictions\n",
    "test_data_path = '../input/test.csv'\n",
    "\n",
    "# read test data file using pandas\n",
    "test_data = pd.read_csv(test_data_path)\n",
    "\n",
    "# create test_X which comes from test_data but includes only the columns you used for prediction.\n",
    "# The list of columns is stored in a variable called features\n",
    "test_X = test_data[features]\n",
    "\n",
    "\n",
    "# make predictions which we will submit. \n",
    "test_preds = (rf_model_on_full_data.predict(test_X)+gbr_model_on_full_data.predict(test_X))/2\n",
    "#gbr_model_on_full_data.predict(test_X)"
   ]
  },
  {
   "cell_type": "markdown",
   "id": "ecbea1b4",
   "metadata": {
    "papermill": {
     "duration": 0.013917,
     "end_time": "2021-08-24T20:52:39.148932",
     "exception": false,
     "start_time": "2021-08-24T20:52:39.135015",
     "status": "completed"
    },
    "tags": []
   },
   "source": [
    "Before submitting, run a check to make sure your `test_preds` have the right format."
   ]
  },
  {
   "cell_type": "code",
   "execution_count": 6,
   "id": "d1284810",
   "metadata": {
    "execution": {
     "iopub.execute_input": "2021-08-24T20:52:39.182424Z",
     "iopub.status.busy": "2021-08-24T20:52:39.181774Z",
     "iopub.status.idle": "2021-08-24T20:52:39.186145Z",
     "shell.execute_reply": "2021-08-24T20:52:39.186710Z",
     "shell.execute_reply.started": "2021-08-24T20:51:16.599250Z"
    },
    "papermill": {
     "duration": 0.023829,
     "end_time": "2021-08-24T20:52:39.186860",
     "exception": false,
     "start_time": "2021-08-24T20:52:39.163031",
     "status": "completed"
    },
    "tags": []
   },
   "outputs": [
    {
     "data": {
      "application/javascript": [
       "parent.postMessage({\"jupyterEvent\": \"custom.exercise_interaction\", \"data\": {\"outcomeType\": 1, \"valueTowardsCompletion\": 1.0, \"interactionType\": 1, \"questionType\": 2, \"questionId\": \"1_CheckSubmittablePreds\", \"learnToolsVersion\": \"0.3.4\", \"failureMessage\": \"\", \"exceptionClass\": \"\", \"trace\": \"\"}}, \"*\")"
      ],
      "text/plain": [
       "<IPython.core.display.Javascript object>"
      ]
     },
     "metadata": {},
     "output_type": "display_data"
    },
    {
     "data": {
      "text/markdown": [
       "<span style=\"color:#33cc33\">Correct</span>"
      ],
      "text/plain": [
       "Correct"
      ]
     },
     "metadata": {},
     "output_type": "display_data"
    }
   ],
   "source": [
    "# Check your answer (To get credit for completing the exercise, you must get a \"Correct\" result!)\n",
    "step_1.check()\n",
    "# step_1.solution()"
   ]
  },
  {
   "cell_type": "markdown",
   "id": "a2be515e",
   "metadata": {
    "papermill": {
     "duration": 0.014905,
     "end_time": "2021-08-24T20:52:39.216901",
     "exception": false,
     "start_time": "2021-08-24T20:52:39.201996",
     "status": "completed"
    },
    "tags": []
   },
   "source": [
    "# Generate a submission\n",
    "\n",
    "Run the code cell below to generate a CSV file with your predictions that you can use to submit to the competition."
   ]
  },
  {
   "cell_type": "code",
   "execution_count": 7,
   "id": "c1616a6e",
   "metadata": {
    "execution": {
     "iopub.execute_input": "2021-08-24T20:52:39.250509Z",
     "iopub.status.busy": "2021-08-24T20:52:39.249920Z",
     "iopub.status.idle": "2021-08-24T20:52:39.264734Z",
     "shell.execute_reply": "2021-08-24T20:52:39.264151Z",
     "shell.execute_reply.started": "2021-08-24T20:51:19.677056Z"
    },
    "papermill": {
     "duration": 0.032497,
     "end_time": "2021-08-24T20:52:39.264870",
     "exception": false,
     "start_time": "2021-08-24T20:52:39.232373",
     "status": "completed"
    },
    "tags": []
   },
   "outputs": [],
   "source": [
    "# Run the code to save predictions in the format used for competition scoring\n",
    "\n",
    "output = pd.DataFrame({'Id': test_data.Id,\n",
    "                       'SalePrice': test_preds})\n",
    "output.to_csv('submission.csv', index=False)"
   ]
  },
  {
   "cell_type": "markdown",
   "id": "fa41bdb5",
   "metadata": {
    "papermill": {
     "duration": 0.015198,
     "end_time": "2021-08-24T20:52:39.295490",
     "exception": false,
     "start_time": "2021-08-24T20:52:39.280292",
     "status": "completed"
    },
    "tags": []
   },
   "source": [
    "# Submit to the competition\n",
    "\n",
    "To test your results, you'll need to join the competition (if you haven't already).  So open a new window by clicking on **[this link](https://www.kaggle.com/c/home-data-for-ml-course)**.  Then click on the **Join Competition** button.\n",
    "\n",
    "![join competition image](https://i.imgur.com/axBzctl.png)\n",
    "\n",
    "Next, follow the instructions below:\n",
    "1. Begin by clicking on the **Save Version** button in the top right corner of the window.  This will generate a pop-up window.  \n",
    "2. Ensure that the **Save and Run All** option is selected, and then click on the **Save** button.\n",
    "3. This generates a window in the bottom left corner of the notebook.  After it has finished running, click on the number to the right of the **Save Version** button.  This pulls up a list of versions on the right of the screen.  Click on the ellipsis **(...)** to the right of the most recent version, and select **Open in Viewer**.  This brings you into view mode of the same page. You will need to scroll down to get back to these instructions.\n",
    "4. Click on the **Output** tab on the right of the screen.  Then, click on the file you would like to submit, and click on the blue **Submit** button to submit your results to the leaderboard.\n",
    "\n",
    "You have now successfully submitted to the competition!\n",
    "\n",
    "If you want to keep working to improve your performance, select the **Edit** button in the top right of the screen. Then you can change your code and repeat the process. There's a lot of room to improve, and you will climb up the leaderboard as you work.\n",
    "\n",
    "\n",
    "# Continue Your Progress\n",
    "There are many ways to improve your model, and **experimenting is a great way to learn at this point.**\n",
    "\n",
    "The best way to improve your model is to add features.  To add more features to the data, revisit the first code cell, and change this line of code to include more column names:\n",
    "```python\n",
    "features = ['LotArea', 'YearBuilt', '1stFlrSF', '2ndFlrSF', 'FullBath', 'BedroomAbvGr', 'TotRmsAbvGrd']\n",
    "```\n",
    "\n",
    "Some features will cause errors because of issues like missing values or non-numeric data types.  Here is a complete list of potential columns that you might like to use, and that won't throw errors:\n",
    "- 'MSSubClass'\n",
    "- 'LotArea'\n",
    "- 'OverallQual' \n",
    "- 'OverallCond' \n",
    "- 'YearBuilt'\n",
    "- 'YearRemodAdd' \n",
    "- '1stFlrSF'\n",
    "- '2ndFlrSF' \n",
    "- 'LowQualFinSF' \n",
    "- 'GrLivArea'\n",
    "- 'FullBath'\n",
    "- 'HalfBath'\n",
    "- 'BedroomAbvGr' \n",
    "- 'KitchenAbvGr' \n",
    "- 'TotRmsAbvGrd' \n",
    "- 'Fireplaces' \n",
    "- 'WoodDeckSF' \n",
    "- 'OpenPorchSF'\n",
    "- 'EnclosedPorch' \n",
    "- '3SsnPorch' \n",
    "- 'ScreenPorch' \n",
    "- 'PoolArea' \n",
    "- 'MiscVal' \n",
    "- 'MoSold' \n",
    "- 'YrSold'\n",
    "\n",
    "Look at the list of columns and think about what might affect home prices.  To learn more about each of these features, take a look at the data description on the **[competition page](https://www.kaggle.com/c/home-data-for-ml-course/data)**.\n",
    "\n",
    "After updating the code cell above that defines the features, re-run all of the code cells to evaluate the model and generate a new submission file.  \n",
    "\n",
    "\n",
    "# What's next?\n",
    "\n",
    "As mentioned above, some of the features will throw an error if you try to use them to train your model.  The **[Intermediate Machine Learning](https://www.kaggle.com/learn/intermediate-machine-learning)** course will teach you how to handle these types of features. You will also learn to use **xgboost**, a technique giving even better accuracy than Random Forest.\n",
    "\n",
    "The **[Pandas](https://kaggle.com/Learn/Pandas)** course will give you the data manipulation skills to quickly go from conceptual idea to implementation in your data science projects. \n",
    "\n",
    "You are also ready for the **[Deep Learning](https://kaggle.com/Learn/intro-to-Deep-Learning)** course, where you will build models with better-than-human level performance at computer vision tasks."
   ]
  },
  {
   "cell_type": "markdown",
   "id": "ce68080d",
   "metadata": {
    "papermill": {
     "duration": 0.014511,
     "end_time": "2021-08-24T20:52:39.325117",
     "exception": false,
     "start_time": "2021-08-24T20:52:39.310606",
     "status": "completed"
    },
    "tags": []
   },
   "source": [
    "---\n",
    "\n",
    "\n",
    "\n",
    "\n",
    "*Have questions or comments? Visit the [Learn Discussion forum](https://www.kaggle.com/learn-forum/161285) to chat with other Learners.*"
   ]
  }
 ],
 "metadata": {
  "kernelspec": {
   "display_name": "Python 3",
   "language": "python",
   "name": "python3"
  },
  "language_info": {
   "codemirror_mode": {
    "name": "ipython",
    "version": 3
   },
   "file_extension": ".py",
   "mimetype": "text/x-python",
   "name": "python",
   "nbconvert_exporter": "python",
   "pygments_lexer": "ipython3",
   "version": "3.7.10"
  },
  "papermill": {
   "default_parameters": {},
   "duration": 68.671142,
   "end_time": "2021-08-24T20:52:40.049331",
   "environment_variables": {},
   "exception": null,
   "input_path": "__notebook__.ipynb",
   "output_path": "__notebook__.ipynb",
   "parameters": {},
   "start_time": "2021-08-24T20:51:31.378189",
   "version": "2.3.3"
  }
 },
 "nbformat": 4,
 "nbformat_minor": 5
}
